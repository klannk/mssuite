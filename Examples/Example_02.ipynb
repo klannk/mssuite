{
 "metadata": {
  "language_info": {
   "codemirror_mode": {
    "name": "ipython",
    "version": 3
   },
   "file_extension": ".py",
   "mimetype": "text/x-python",
   "name": "python",
   "nbconvert_exporter": "python",
   "pygments_lexer": "ipython3",
   "version": "3.6.10-final"
  },
  "orig_nbformat": 2,
  "kernelspec": {
   "name": "python361064bitkeraswithpython36condaf960ec0d65344ca2aa169d86813107bf",
   "display_name": "Python 3.6.10 64-bit ('Keras_with_Python_3_6': conda)"
  },
  "metadata": {
   "interpreter": {
    "hash": "73c24c49d2b06808b1ea586578abddabc3a3d1605d247939e4ed8cc5ca9e99d0"
   }
  }
 },
 "nbformat": 4,
 "nbformat_minor": 2,
 "cells": [
  {
   "source": [
    "# Mssuite Example 02 - Using the prebuild pipelines\n",
    "\n",
    "In this example, I will show how we can process the dataset from example 1 faster with the prebuild pipelines. First we need to import the needed packages and initialize the needed modules."
   ],
   "cell_type": "markdown",
   "metadata": {}
  },
  {
   "cell_type": "code",
   "execution_count": 1,
   "metadata": {},
   "outputs": [],
   "source": [
    "\n",
    "import pandas as pd #We need pandas to read in our data\n",
    "import mssuite.mssuite as ms\n",
    "pipe = ms.Pipelines()"
   ]
  },
  {
   "source": [
    "Now we read in our data, specify the conditions and the comparisons we want to perform."
   ],
   "cell_type": "markdown",
   "metadata": {}
  },
  {
   "cell_type": "code",
   "execution_count": 2,
   "metadata": {},
   "outputs": [],
   "source": [
    "psms = pd.read_csv(\"Example_data_PSMs.txt\",sep='\\t',header=0)\n",
    "conditions = ['0Control','0Control','0Control','Mix1','Mix1','Mix1','Mix2','Mix2','Mix2','Mix3','Mix3','Mix3']\n",
    "pairs=[['0Control','Mix1'],['0Control','Mix2'],['0Control','Mix3']]"
   ]
  },
  {
   "source": [
    "Now we use the singlefile_lmm pipeline to process our data. It will filter our data (can be set by filter=True/False), normalize it, calculate differential expression, plot volcano plots for all comparisons (and save them if mode='save'), a heatmap, boxplots and will perform Reactome pathway enrichment with the whole dataset as background and save the results to the disk."
   ],
   "cell_type": "markdown",
   "metadata": {}
  },
  {
   "cell_type": "code",
   "execution_count": null,
   "metadata": {},
   "outputs": [],
   "source": [
    "results = pipe.singlefile_lmm(psms,conditions=conditions,pairs=pairs,wd='./',filter=True)"
   ]
  },
  {
   "cell_type": "code",
   "execution_count": null,
   "metadata": {},
   "outputs": [],
   "source": []
  }
 ]
}