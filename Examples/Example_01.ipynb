{
 "metadata": {
  "language_info": {
   "codemirror_mode": {
    "name": "ipython",
    "version": 3
   },
   "file_extension": ".py",
   "mimetype": "text/x-python",
   "name": "python",
   "nbconvert_exporter": "python",
   "pygments_lexer": "ipython3",
   "version": "3.6.10-final"
  },
  "orig_nbformat": 2,
  "kernelspec": {
   "name": "python3610jvsc74a57bd073c24c49d2b06808b1ea586578abddabc3a3d1605d247939e4ed8cc5ca9e99d0",
   "display_name": "Python 3.6.10 64-bit ('Keras_with_Python_3_6': conda)"
  },
  "metadata": {
   "interpreter": {
    "hash": "73c24c49d2b06808b1ea586578abddabc3a3d1605d247939e4ed8cc5ca9e99d0"
   }
  }
 },
 "nbformat": 4,
 "nbformat_minor": 2,
 "cells": [
  {
   "source": [
    "# Mssuite example workflow 1\n",
    "\n",
    "In this workbook we explore how to use the mssuite python package for proteomics data analysis. I will explain how to test the different modules and perform differential expression analysis.\n",
    "First we need to import some packages:"
   ],
   "cell_type": "markdown",
   "metadata": {}
  },
  {
   "cell_type": "code",
   "execution_count": null,
   "metadata": {},
   "outputs": [],
   "source": [
    "\n",
    "import pandas as pd #We need pandas to read in our data\n",
    "import mssuite.mssuite as ms"
   ]
  },
  {
   "source": [
    "Then we load our example data. Here we use a TMTpro 12-plex containing different spike-ins of E.coli proteins. "
   ],
   "cell_type": "markdown",
   "metadata": {}
  },
  {
   "cell_type": "code",
   "execution_count": null,
   "metadata": {},
   "outputs": [],
   "source": [
    "psms = pd.read_csv('Example_data_PSMs.txt',header=0,sep='\\t')\n",
    "print(psms.head())"
   ]
  },
  {
   "source": [
    "The first step is the preprocessing step, where we will filter our dataset if needed and perform normalisations. Therefore we need to initialize the needed modules:"
   ],
   "cell_type": "markdown",
   "metadata": {}
  },
  {
   "cell_type": "code",
   "execution_count": null,
   "metadata": {},
   "outputs": [],
   "source": [
    "defaults = ms.Defaults()\n",
    "process = ms.Preprocessing()"
   ]
  },
  {
   "source": [
    "The normalisation functions need an array of columns to use for normalisation. We can get this array by calling the `Defaults.get_channels()` method on our input data:"
   ],
   "cell_type": "markdown",
   "metadata": {}
  },
  {
   "cell_type": "code",
   "execution_count": null,
   "metadata": {},
   "outputs": [],
   "source": [
    "channels = defaults.get_channels(psms)\n",
    "print(channels)"
   ]
  },
  {
   "source": [
    "Now we first plot the data as boxplots before normalisation:"
   ],
   "cell_type": "markdown",
   "metadata": {}
  },
  {
   "cell_type": "code",
   "execution_count": null,
   "metadata": {},
   "outputs": [],
   "source": [
    "psms[channels].plot.box(logy=True,showfliers=False)"
   ]
  },
  {
   "source": [
    "Now we perform normalisation:"
   ],
   "cell_type": "markdown",
   "metadata": {}
  },
  {
   "cell_type": "code",
   "execution_count": null,
   "metadata": {},
   "outputs": [],
   "source": [
    "psms = process.total_intensity(psms,channels=channels)"
   ]
  },
  {
   "source": [
    "Now we look at the data after normalisation:"
   ],
   "cell_type": "markdown",
   "metadata": {}
  },
  {
   "cell_type": "code",
   "execution_count": null,
   "metadata": {},
   "outputs": [],
   "source": [
    "psms[channels].plot.box(logy=True,showfliers=False)"
   ]
  },
  {
   "source": [
    "This looks much better now. Now we can perform differential expression analysis. We need to specify our different conditions for the replicates and the pairs we want to test. If we do not specify the pairs, all possible combinations will be tested. To simplify the downstream analysis i add a '0'prefix before my control, since the order within statsmodels is always alphabetically and now we get always MixX versus control, which makes interpretation more intuitive."
   ],
   "cell_type": "markdown",
   "metadata": {}
  },
  {
   "cell_type": "code",
   "execution_count": null,
   "metadata": {},
   "outputs": [],
   "source": [
    "hypo = ms.HypothesisTesting()\n",
    "conditions = ['0Control','0Control','0Control','Mix1','Mix1','Mix1','Mix2','Mix2','Mix2','Mix3','Mix3','Mix3']\n",
    "pairs=[['0Control','Mix1'],['0Control','Mix2'],['0Control','Mix3']]\n",
    "results = hypo.peptide_based_lmm(psms,conditions=conditions,norm=None,pairs=pairs)\n",
    "'''\n",
    " I specified norm = None since we already normalized our data. Alternatively we can give the function a function from the Preprocssing module.\n",
    "'''"
   ]
  },
  {
   "source": [
    "After we performed statistical analysis we can examine which comparisons have been performed and use this information to extract significant hits from the data or create plots for the different comparisons."
   ],
   "cell_type": "markdown",
   "metadata": {}
  }
 ]
}